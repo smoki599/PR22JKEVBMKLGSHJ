{
 "cells": [
  {
   "cell_type": "code",
   "execution_count": 1,
   "id": "e4e23baa",
   "metadata": {
    "scrolled": false
   },
   "outputs": [],
   "source": [
    "import numpy as np\n",
    "import pandas as pd\n",
    "import matplotlib.pyplot as plt\n",
    "import geopandas as gpd\n",
    "import matplotlib.pyplot as plt\n",
    "from PIL import Image\n",
    "import imageio\n",
    "import io\n",
    "%matplotlib inline\n",
    "\n",
    "data = pd.read_csv('podatki-smrti-statRegije.csv',delimiter=';', skiprows=[0,1], encoding='windows-1252')\n",
    "data = data.head(13)\n",
    "data = data.drop(data.columns[0], axis=1)\n",
    "data.replace('...', 0, inplace=True)\n",
    "data = data.rename(columns=lambda x: x.split()[0])"
   ]
  },
  {
   "cell_type": "markdown",
   "id": "146e4710",
   "metadata": {},
   "source": [
    "Razlika (v procentih) smrti dveh let po statističnih regijah."
   ]
  },
  {
   "cell_type": "code",
   "execution_count": 2,
   "id": "519524eb",
   "metadata": {
    "scrolled": true
   },
   "outputs": [],
   "source": [
    "slovenia = gpd.read_file('stanford-kt691jt0328-shapefile/kt691jt0328.shp')\n",
    "slovenia['name_1'] = slovenia['name_1'].str.replace('?', 'š')\n",
    "slovenia['name_1'] = slovenia['name_1'].str.replace('Spodnjeposavska', 'Posavska')\n",
    "slovenia['name_1'] = slovenia['name_1'].str.replace('Notranjsko-kraška', 'Primorsko-notranjska')\n",
    "\n",
    "merged = slovenia.merge(data, left_on=\"name_1\", right_on=\"STATISTIÈNA\")\n",
    "diff = merged.copy()\n",
    "\n",
    "\n",
    "def make_image(year):\n",
    "    val = []\n",
    "    if year != '2002':\n",
    "        prev_year = str(int(year) - 1)\n",
    "        for i, row in merged.iterrows():\n",
    "            val.append((row[year] - row[prev_year]) / row[prev_year] * 100)\n",
    "        else:\n",
    "            diff[year] = val\n",
    "\n",
    "    ax = diff.plot(column=year, cmap='coolwarm', legend=True)\n",
    "    ax.set_title(f\"Razlike[%] smrti po regijah med {prev_year} - {year}\")\n",
    "    ax.set_axis_off()\n",
    "    fig = ax.get_figure()\n",
    "\n",
    "    buffer = io.BytesIO()\n",
    "    fig.savefig(buffer, format='png', bbox_inches='tight')\n",
    "    buffer.seek(0)\n",
    "    image = Image.open(buffer)\n",
    "\n",
    "    plt.close()\n",
    "\n",
    "    return image\n",
    "\n",
    "images = []\n",
    "for i in range(2003, 2022):\n",
    "    images.append(make_image(str(i)))\n",
    "\n",
    "imageio.mimsave(\"animated_map.gif\", images, fps=1)\n",
    "\n",
    "from IPython.display import Image\n",
    "\n",
    "with open('animated_map.gif','rb') as f:\n",
    "    display(Image(data=f.read(), format='gif'))\n"
   ]
  },
  {
   "cell_type": "code",
   "execution_count": 3,
   "id": "7e5b7d3f",
   "metadata": {},
   "outputs": [],
   "source": [
    "data = pd.read_excel('Eu annual crude death rate.xlsx')\n",
    "\n",
    "eu_drzave = data.iloc[:, 0].tolist()[1:]\n",
    "years = data.columns[1:].tolist()\n",
    "death_rates = data.iloc[1:, 1:].apply(pd.to_numeric, errors='coerce')\n",
    "\n",
    "death_rates.index = eu_drzave\n",
    "death_rates = death_rates.dropna()\n",
    "average_death_rates = death_rates.mean(axis=1)\n",
    "\n",
    "izbrane_drzave = ['Slovenia']\n",
    "lowest_2_countries = average_death_rates.nsmallest(2).index.tolist()\n",
    "highest_2_countries = average_death_rates.nlargest(2).index.tolist()\n",
    "izbrane_drzave += lowest_2_countries + highest_2_countries\n",
    "\n",
    "\n",
    "slovenia_avg = average_death_rates.loc['Slovenia']\n",
    "similar_countries = average_death_rates[abs(average_death_rates - slovenia_avg) < 0.5].index.tolist()\n",
    "izbrane_drzave += similar_countries[:2]\n",
    "\n",
    "death_rates_filter = death_rates.loc[izbrane_drzave]\n",
    "\n",
    "\n",
    "plt.figure(figsize=(12, 6))\n",
    "for country in izbrane_drzave:\n",
    "    plt.plot(years, death_rates_filter.loc[country, :], label=country, linewidth=2)\n",
    "\n",
    "plt.xticks(rotation=90\n",
    "plt.xlabel('Year')\n",
    "plt.ylabel('Število smrt na 1000 prebivalcev')\n",
    "plt.title('Število smrt na 1000 prebivalcev v izbranih EU državah')\n",
    "\n",
    "plt.legend(loc='upper left')\n",
    "plt.tight_layout()\n",
    "plt.show()\n",
    "\n"
   ]
  },
  {
   "cell_type": "code",
   "execution_count": null,
   "id": "9fd57070",
   "metadata": {
    "scrolled": false
   },
   "outputs": [],
   "source": [
    "from PIL import Image\n",
    "\n",
    "europe = gpd.read_file(\"europeShp/Europe.shp\")\n",
    "\n",
    "crude_death_rates = pd.read_excel(\"Eu annual crude death rate.xlsx\", index_col=0)\n",
    "\n",
    "merged_data = europe.merge(crude_death_rates, left_on='NAME', right_index=True)\n",
    "\n",
    "images = []\n",
    "for year in range(2000, 2022):\n",
    "\n",
    "    merged_data[str(year)].fillna(np.nan, inplace=True)\n",
    "    ax = merged_data.plot(column=str(year), cmap='coolwarm', legend=False, missing_kwds={'color': 'gray'})\n",
    "\n",
    "    ax.set_title(f'Crude Death Rate in Europe - {year}')\n",
    "    ax.set_axis_off()\n",
    "    fig = ax.get_figure()\n",
    "    \n",
    "    buffer = io.BytesIO()\n",
    "    fig.savefig(buffer, format='png', bbox_inches='tight')\n",
    "    buffer.seek(0)\n",
    "    image = Image.open(buffer)\n",
    "    plt.close()\n",
    "    \n",
    "    images.append(np.array(image))\n",
    "\n",
    "imageio.mimsave('crude_death_rates.gif', images, fps=2)\n",
    "\n",
    "from IPython.display import Image\n",
    "\n",
    "with open('crude_death_rates.gif','rb') as f:\n",
    "    display(Image(data=f.read(), format='gif'))"
   ]
  },
  {
   "cell_type": "code",
   "execution_count": null,
   "id": "a741c7ff",
   "metadata": {},
   "outputs": [],
   "source": []
  }
 ],
 "metadata": {
  "celltoolbar": "Raw Cell Format",
  "kernelspec": {
   "display_name": "Python 3 (ipykernel)",
   "language": "python",
   "name": "python3"
  },
  "language_info": {
   "codemirror_mode": {
    "name": "ipython",
    "version": 3
   },
   "file_extension": ".py",
   "mimetype": "text/x-python",
   "name": "python",
   "nbconvert_exporter": "python",
   "pygments_lexer": "ipython3",
   "version": "3.10.0"
  }
 },
 "nbformat": 4,
 "nbformat_minor": 5
}
