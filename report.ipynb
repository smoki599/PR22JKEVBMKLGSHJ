{
 "cells": [
  {
   "cell_type": "markdown",
   "id": "a444186b",
   "metadata": {},
   "source": [
    "# ZARADI ČESA BOŠ UMRL, ČE ŽIVIŠ V SLOVENIJI?\n",
    "## Projektna naloga - podatkovno rudarjenje \n",
    "\n",
    "# UVOD \n",
    "Pri predmetu podatkovno rudarjenje, smo si za projektno nalogo izbrali podatkovno bazo, ki vsebuje podatke o vzrokih smrti v Sloveniji. Odločili smo se, da bomo raziskali kaj so najpogostejši vzroki smrti in ali se razlikujejo glede na spol in regijo.\n",
    "V nadaljevanju bomo predstavili vprašanja, ki smo si jih zastavili in ugotovitve do katerih smo prišli.\n",
    "\n",
    "# PODATKI\n",
    "Uporabili smo nekaj virov podatkov. \n",
    "1. Za podatke o smrtih v Sloveniji smo uporabili podatke z ministrstva za upravo in spadajo pod področje prebivalstva in družbe: https://podatki.gov.si/dataset/surs05l3016s. Podatki nudijo vpogled v pogoste vzroke smrti v Sloveniji, kar je ključno za razumevanje zdravstvenega stanja celotnega prebivalstva. Razdeljeni so na spol, statistično regijo, leto in vzrok smrti. Bolezni so opredeljene v šestih skupinah: nekatere infekcijske in parazitske bolezni, neoplazme, bolezni obtočil, bolezni dihal, bolezni prebavil ter poškodbe, zastrupitve in nekatere druge posledice zunanjih vzrokov. Meritve so opredeljene na enega ali tisoč prebivalcev. Podatki so tipa števec in obsegajo 10 920 podatkovnih polj.\n",
    "2. Podatke o spremembah v številu populacije v državah Evropske unije smo pridobili z Eurostat-a - Generalnega direktorata Evropske komisije, ki zagotavlja statistične informacije institucijam Evropske unije: https://ec.europa.eu/eurostat/databrowser/view/DEMO_GIND__custom_6216638/default/table?lang=en. \n",
    "\n",
    "# VPRAŠANJA / CILJI\n",
    "Naš cilj pri obdelavi podatkov in izdelavi grafov je bil odgovoriti na vprašanja:\n",
    "\n",
    "1. Kateri vzrok smrti je najpogostejši glede na statistično regijo?\n",
    "2. Kateri vzrok smrti je najpogostejši za posamezen spol?\n",
    "3. Kako je naraščalo število smrti po Sloveniji?\n",
    "4. Kakšen je vpliv korone na število smrti med leti 2020 in 2022?\n",
    "5. Primerjava števila smrti z drugimi EU državami.\n",
    "\n",
    "# IZVEDENE ANALIZE IN UGOTOVITVE\n",
    "Da bi odgovorili na vprašanja, ki smo si jih zadali, smo izdelali naslednje grafe:\n",
    "\n",
    "## Najpogostejši vzrok smrti glede na statistično regijo\n",
    "\n",
    "(Slika)\n",
    "\n",
    "* Največ ljudi (v vseh občinah) umre zaradi bolezni obtočil, drugi najpogostejši vzrok pa so infekcijske in parazitne bolezni.\n",
    "* Najmanj ljudi (v vseh občinah) umre zaradi neoplazme. \n",
    "* Pri skoraj vseh vzrokih je največ smrti v pomurski regiji.\n",
    "* Najmanj smrti je v osrednjeslovenski regiji.\n",
    "\n",
    "Grafi vzrokov smrti po posameznih regijah:\n",
    "\n",
    "(Slike)\n",
    "\n",
    "## Najpogostejši vzrok smrti za posamezen spol\n",
    "\n",
    "(Slika)\n",
    "\n",
    "* Pri ženskah so najpogostejši vzroki smrti bolezni obtočil, pri moških pa neoplazma.\n",
    "* Pri moških in ženskah so najmanj pogost vzrok smrti bolezni prebavil."
   ]
  }
 ],
 "metadata": {
  "kernelspec": {
   "display_name": "Python 3 (ipykernel)",
   "language": "python",
   "name": "python3"
  },
  "language_info": {
   "codemirror_mode": {
    "name": "ipython",
    "version": 3
   },
   "file_extension": ".py",
   "mimetype": "text/x-python",
   "name": "python",
   "nbconvert_exporter": "python",
   "pygments_lexer": "ipython3",
   "version": "3.10.10"
  },
  "nbTranslate": {
   "displayLangs": [
    "*"
   ],
   "hotkey": "alt-t",
   "langInMainMenu": true,
   "sourceLang": "en",
   "targetLang": "fr",
   "useGoogleTranslate": true
  }
 },
 "nbformat": 4,
 "nbformat_minor": 5
}
